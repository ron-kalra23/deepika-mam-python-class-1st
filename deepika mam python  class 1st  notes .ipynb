{
 "cells": [
  {
   "cell_type": "markdown",
   "id": "8fa42434",
   "metadata": {},
   "source": [
    "# welcome to python"
   ]
  },
  {
   "cell_type": "code",
   "execution_count": 2,
   "id": "b4d24444",
   "metadata": {},
   "outputs": [],
   "source": [
    "#basic operators \n",
    "#basic operators are addition , subtraction , divison et.c"
   ]
  },
  {
   "cell_type": "code",
   "execution_count": 3,
   "id": "2e6aa0c6",
   "metadata": {},
   "outputs": [
    {
     "data": {
      "text/plain": [
       "14.0"
      ]
     },
     "execution_count": 3,
     "metadata": {},
     "output_type": "execute_result"
    }
   ],
   "source": [
    "28/2"
   ]
  },
  {
   "cell_type": "code",
   "execution_count": 4,
   "id": "7edfa0e9",
   "metadata": {},
   "outputs": [
    {
     "data": {
      "text/plain": [
       "14"
      ]
     },
     "execution_count": 4,
     "metadata": {},
     "output_type": "execute_result"
    }
   ],
   "source": [
    "28//2 #to remove the .0"
   ]
  },
  {
   "cell_type": "code",
   "execution_count": 5,
   "id": "a611859c",
   "metadata": {},
   "outputs": [
    {
     "data": {
      "text/plain": [
       "56"
      ]
     },
     "execution_count": 5,
     "metadata": {},
     "output_type": "execute_result"
    }
   ],
   "source": [
    "28 *2 "
   ]
  },
  {
   "cell_type": "code",
   "execution_count": 6,
   "id": "64bb6440",
   "metadata": {},
   "outputs": [
    {
     "data": {
      "text/plain": [
       "1400"
      ]
     },
     "execution_count": 6,
     "metadata": {},
     "output_type": "execute_result"
    }
   ],
   "source": [
    "25*56"
   ]
  },
  {
   "cell_type": "code",
   "execution_count": 7,
   "id": "6266abe7",
   "metadata": {},
   "outputs": [
    {
     "data": {
      "text/plain": [
       "2"
      ]
     },
     "execution_count": 7,
     "metadata": {},
     "output_type": "execute_result"
    }
   ],
   "source": [
    "1 +1 "
   ]
  },
  {
   "cell_type": "code",
   "execution_count": 8,
   "id": "c8e77673",
   "metadata": {},
   "outputs": [
    {
     "data": {
      "text/plain": [
       "0"
      ]
     },
     "execution_count": 8,
     "metadata": {},
     "output_type": "execute_result"
    }
   ],
   "source": [
    "1-1"
   ]
  },
  {
   "cell_type": "code",
   "execution_count": 9,
   "id": "a400d33d",
   "metadata": {},
   "outputs": [
    {
     "data": {
      "text/plain": [
       "4"
      ]
     },
     "execution_count": 9,
     "metadata": {},
     "output_type": "execute_result"
    }
   ],
   "source": [
    "2+2"
   ]
  },
  {
   "cell_type": "code",
   "execution_count": 10,
   "id": "51d7b97e",
   "metadata": {},
   "outputs": [
    {
     "data": {
      "text/plain": [
       "4"
      ]
     },
     "execution_count": 10,
     "metadata": {},
     "output_type": "execute_result"
    }
   ],
   "source": [
    "2*2"
   ]
  },
  {
   "cell_type": "code",
   "execution_count": 11,
   "id": "8bbc841a",
   "metadata": {},
   "outputs": [
    {
     "data": {
      "text/plain": [
       "1.0"
      ]
     },
     "execution_count": 11,
     "metadata": {},
     "output_type": "execute_result"
    }
   ],
   "source": [
    "2/2"
   ]
  },
  {
   "cell_type": "code",
   "execution_count": 13,
   "id": "235cfbe8",
   "metadata": {},
   "outputs": [
    {
     "data": {
      "text/plain": [
       "1"
      ]
     },
     "execution_count": 13,
     "metadata": {},
     "output_type": "execute_result"
    }
   ],
   "source": [
    "2//2 #TO remove we used floor division"
   ]
  },
  {
   "cell_type": "markdown",
   "id": "a7206818",
   "metadata": {},
   "source": [
    "for square:"
   ]
  },
  {
   "cell_type": "code",
   "execution_count": 14,
   "id": "031a1b5c",
   "metadata": {},
   "outputs": [
    {
     "data": {
      "text/plain": [
       "4"
      ]
     },
     "execution_count": 14,
     "metadata": {},
     "output_type": "execute_result"
    }
   ],
   "source": [
    "2 **2"
   ]
  },
  {
   "cell_type": "markdown",
   "id": "78c4f958",
   "metadata": {},
   "source": [
    " a ** b  , this means power of a is b "
   ]
  },
  {
   "cell_type": "code",
   "execution_count": 15,
   "id": "573b7ff9",
   "metadata": {},
   "outputs": [
    {
     "data": {
      "text/plain": [
       "256"
      ]
     },
     "execution_count": 15,
     "metadata": {},
     "output_type": "execute_result"
    }
   ],
   "source": [
    " 4**4"
   ]
  },
  {
   "cell_type": "markdown",
   "id": "48ff2b94",
   "metadata": {},
   "source": [
    "so to find square we must do \n",
    "\n",
    "x ** power\n",
    "\n",
    "x is any number"
   ]
  },
  {
   "cell_type": "code",
   "execution_count": 16,
   "id": "0a8daee2",
   "metadata": {},
   "outputs": [
    {
     "name": "stdout",
     "output_type": "stream",
     "text": [
      "729\n"
     ]
    }
   ],
   "source": [
    "#another mwthod is \n",
    "# power of 9 and power is 3 \n",
    "print(pow(9,3))"
   ]
  },
  {
   "cell_type": "code",
   "execution_count": 17,
   "id": "ebd27c86",
   "metadata": {},
   "outputs": [
    {
     "data": {
      "text/plain": [
       "6561"
      ]
     },
     "execution_count": 17,
     "metadata": {},
     "output_type": "execute_result"
    }
   ],
   "source": [
    "pow(9,4)"
   ]
  },
  {
   "cell_type": "code",
   "execution_count": 18,
   "id": "a572850f",
   "metadata": {},
   "outputs": [
    {
     "data": {
      "text/plain": [
       "64"
      ]
     },
     "execution_count": 18,
     "metadata": {},
     "output_type": "execute_result"
    }
   ],
   "source": [
    "pow(8,2)"
   ]
  },
  {
   "cell_type": "markdown",
   "id": "15d80ac8",
   "metadata": {},
   "source": [
    "# variables"
   ]
  },
  {
   "cell_type": "markdown",
   "id": "e6792169",
   "metadata": {},
   "source": [
    "variables are basically container which hold some data , data structures "
   ]
  },
  {
   "cell_type": "code",
   "execution_count": 19,
   "id": "8e3ad5f4",
   "metadata": {},
   "outputs": [],
   "source": [
    "a = 50 #here a hold the value of 50"
   ]
  },
  {
   "cell_type": "code",
   "execution_count": 20,
   "id": "f5fe6f33",
   "metadata": {},
   "outputs": [],
   "source": [
    "b = 20 # b holds the 20 value in it "
   ]
  },
  {
   "cell_type": "code",
   "execution_count": 21,
   "id": "27d6d64a",
   "metadata": {},
   "outputs": [
    {
     "data": {
      "text/plain": [
       "1000"
      ]
     },
     "execution_count": 21,
     "metadata": {},
     "output_type": "execute_result"
    }
   ],
   "source": [
    "a * b"
   ]
  },
  {
   "cell_type": "code",
   "execution_count": 23,
   "id": "f101b60c",
   "metadata": {},
   "outputs": [
    {
     "data": {
      "text/plain": [
       "2"
      ]
     },
     "execution_count": 23,
     "metadata": {},
     "output_type": "execute_result"
    }
   ],
   "source": [
    "a //b #floor division"
   ]
  },
  {
   "cell_type": "code",
   "execution_count": 24,
   "id": "15729d77",
   "metadata": {},
   "outputs": [
    {
     "data": {
      "text/plain": [
       "9536743164062500000000000000000000"
      ]
     },
     "execution_count": 24,
     "metadata": {},
     "output_type": "execute_result"
    }
   ],
   "source": [
    "a**b"
   ]
  },
  {
   "cell_type": "code",
   "execution_count": 25,
   "id": "00df9f79",
   "metadata": {},
   "outputs": [
    {
     "data": {
      "text/plain": [
       "70"
      ]
     },
     "execution_count": 25,
     "metadata": {},
     "output_type": "execute_result"
    }
   ],
   "source": [
    "a + b"
   ]
  },
  {
   "cell_type": "code",
   "execution_count": 26,
   "id": "35e04d0c",
   "metadata": {},
   "outputs": [
    {
     "data": {
      "text/plain": [
       "30"
      ]
     },
     "execution_count": 26,
     "metadata": {},
     "output_type": "execute_result"
    }
   ],
   "source": [
    "a- b"
   ]
  },
  {
   "cell_type": "code",
   "execution_count": 27,
   "id": "4dd9cf2f",
   "metadata": {},
   "outputs": [],
   "source": [
    "# we can do operation with different variables too"
   ]
  },
  {
   "cell_type": "code",
   "execution_count": 28,
   "id": "b24f1177",
   "metadata": {},
   "outputs": [],
   "source": [
    "# we can assign the value to one another variable too.\n"
   ]
  },
  {
   "cell_type": "code",
   "execution_count": 29,
   "id": "240a444c",
   "metadata": {},
   "outputs": [],
   "source": [
    "d = a + b"
   ]
  },
  {
   "cell_type": "code",
   "execution_count": 30,
   "id": "1d668375",
   "metadata": {},
   "outputs": [
    {
     "data": {
      "text/plain": [
       "70"
      ]
     },
     "execution_count": 30,
     "metadata": {},
     "output_type": "execute_result"
    }
   ],
   "source": [
    "d   # so d holds the data od a + b "
   ]
  },
  {
   "cell_type": "code",
   "execution_count": 32,
   "id": "e4968e25",
   "metadata": {},
   "outputs": [
    {
     "data": {
      "text/plain": [
       "1000"
      ]
     },
     "execution_count": 32,
     "metadata": {},
     "output_type": "execute_result"
    }
   ],
   "source": [
    "e = a * b \n",
    "e"
   ]
  },
  {
   "cell_type": "markdown",
   "id": "1a475cd4",
   "metadata": {},
   "source": [
    "# string "
   ]
  },
  {
   "cell_type": "markdown",
   "id": "74713896",
   "metadata": {},
   "source": [
    " A text is known as string in python . it's always in double quotes(\"\") or single quote('') "
   ]
  },
  {
   "cell_type": "code",
   "execution_count": 33,
   "id": "e8d85594",
   "metadata": {},
   "outputs": [
    {
     "name": "stdout",
     "output_type": "stream",
     "text": [
      "Hello Python World\n"
     ]
    }
   ],
   "source": [
    "print(\"Hello Python World\")"
   ]
  },
  {
   "cell_type": "code",
   "execution_count": 36,
   "id": "ff87a218",
   "metadata": {},
   "outputs": [
    {
     "name": "stdout",
     "output_type": "stream",
     "text": [
      "Hello Python World \n",
      "python is very interesting language \n",
      "I will master it by the end of this year\n"
     ]
    }
   ],
   "source": [
    "print(\"Hello Python World \")\n",
    "print('python is very interesting language ')\n",
    "print(\"I will master it by the end of this year\")"
   ]
  },
  {
   "cell_type": "code",
   "execution_count": 52,
   "id": "ec9682fe",
   "metadata": {},
   "outputs": [],
   "source": [
    "length = 34 \n",
    "breadth = 45 \n",
    "area_of_rectangle = length * breadth"
   ]
  },
  {
   "cell_type": "code",
   "execution_count": 43,
   "id": "04df65a5",
   "metadata": {},
   "outputs": [
    {
     "data": {
      "text/plain": [
       "1530"
      ]
     },
     "execution_count": 43,
     "metadata": {},
     "output_type": "execute_result"
    }
   ],
   "source": [
    "area_of_rectangle"
   ]
  },
  {
   "cell_type": "code",
   "execution_count": 47,
   "id": "1b837ebb",
   "metadata": {},
   "outputs": [
    {
     "name": "stdout",
     "output_type": "stream",
     "text": [
      "The area of rectangle  is  1530\n"
     ]
    }
   ],
   "source": [
    "print(\"The area of rectangle  is \" , area_of_rectangle)"
   ]
  },
  {
   "cell_type": "code",
   "execution_count": 53,
   "id": "7fa2d5d5",
   "metadata": {},
   "outputs": [
    {
     "name": "stdout",
     "output_type": "stream",
     "text": [
      "The area of rectangle with length 34 and breadth 45 is 1530\n"
     ]
    }
   ],
   "source": [
    "print(\"The area of rectangle with length\" , length, \"and breadth\" , breadth , \"is\" , area_of_rectangle)"
   ]
  },
  {
   "cell_type": "code",
   "execution_count": 54,
   "id": "454561b2",
   "metadata": {},
   "outputs": [
    {
     "name": "stdout",
     "output_type": "stream",
     "text": [
      "The area of  4 is  16\n"
     ]
    }
   ],
   "source": [
    "p = 4 \n",
    "square = p**2\n",
    "print(\"The area of \" , p ,\"is \" , square )"
   ]
  },
  {
   "cell_type": "markdown",
   "id": "d2741738",
   "metadata": {},
   "source": [
    "# comparison operaters"
   ]
  },
  {
   "cell_type": "markdown",
   "id": "47b00fbe",
   "metadata": {},
   "source": [
    "comparison operaters used for comparison between variables or data."
   ]
  },
  {
   "cell_type": "markdown",
   "id": "4bacaa20",
   "metadata": {},
   "source": [
    " < , > , == ,  !="
   ]
  },
  {
   "cell_type": "markdown",
   "id": "1af1cec3",
   "metadata": {},
   "source": [
    "all the above are comparison operators"
   ]
  },
  {
   "cell_type": "code",
   "execution_count": 55,
   "id": "bc6c13b6",
   "metadata": {},
   "outputs": [
    {
     "data": {
      "text/plain": [
       "False"
      ]
     },
     "execution_count": 55,
     "metadata": {},
     "output_type": "execute_result"
    }
   ],
   "source": [
    "100 < 40"
   ]
  },
  {
   "cell_type": "code",
   "execution_count": 56,
   "id": "2f3d1603",
   "metadata": {},
   "outputs": [
    {
     "data": {
      "text/plain": [
       "True"
      ]
     },
     "execution_count": 56,
     "metadata": {},
     "output_type": "execute_result"
    }
   ],
   "source": [
    "100==100"
   ]
  },
  {
   "cell_type": "code",
   "execution_count": 57,
   "id": "62d1f8c1",
   "metadata": {},
   "outputs": [
    {
     "data": {
      "text/plain": [
       "False"
      ]
     },
     "execution_count": 57,
     "metadata": {},
     "output_type": "execute_result"
    }
   ],
   "source": [
    "100 != 100"
   ]
  },
  {
   "cell_type": "code",
   "execution_count": 58,
   "id": "8ccd2b54",
   "metadata": {},
   "outputs": [
    {
     "data": {
      "text/plain": [
       "True"
      ]
     },
     "execution_count": 58,
     "metadata": {},
     "output_type": "execute_result"
    }
   ],
   "source": [
    "100>89"
   ]
  },
  {
   "cell_type": "code",
   "execution_count": 59,
   "id": "abee4474",
   "metadata": {},
   "outputs": [
    {
     "data": {
      "text/plain": [
       "True"
      ]
     },
     "execution_count": 59,
     "metadata": {},
     "output_type": "execute_result"
    }
   ],
   "source": [
    "100<999"
   ]
  },
  {
   "cell_type": "markdown",
   "id": "8aafa719",
   "metadata": {},
   "source": [
    "# Boolean expression "
   ]
  },
  {
   "cell_type": "markdown",
   "id": "5f030cf7",
   "metadata": {},
   "source": [
    "True and False are the boolean expression"
   ]
  },
  {
   "cell_type": "code",
   "execution_count": 60,
   "id": "34abb2b9",
   "metadata": {},
   "outputs": [
    {
     "data": {
      "text/plain": [
       "False"
      ]
     },
     "execution_count": 60,
     "metadata": {},
     "output_type": "execute_result"
    }
   ],
   "source": [
    "58 > 100"
   ]
  },
  {
   "cell_type": "code",
   "execution_count": 61,
   "id": "2040b027",
   "metadata": {},
   "outputs": [
    {
     "data": {
      "text/plain": [
       "True"
      ]
     },
     "execution_count": 61,
     "metadata": {},
     "output_type": "execute_result"
    }
   ],
   "source": [
    "56 < 100"
   ]
  },
  {
   "cell_type": "markdown",
   "id": "4c547348",
   "metadata": {},
   "source": [
    " == means equal to "
   ]
  },
  {
   "cell_type": "code",
   "execution_count": 62,
   "id": "fb4fd6b5",
   "metadata": {},
   "outputs": [],
   "source": [
    "# 100 = 100 will be syntax error , single = is assigining operator "
   ]
  },
  {
   "cell_type": "markdown",
   "id": "1a393f32",
   "metadata": {},
   "source": [
    "# Python datatypes"
   ]
  },
  {
   "cell_type": "markdown",
   "id": "108a41e1",
   "metadata": {},
   "source": [
    ".string datatypes = given in single or double quote and are text . multiple chracters are strings"
   ]
  },
  {
   "cell_type": "markdown",
   "id": "c285b8ad",
   "metadata": {},
   "source": [
    ".Integer datatypes = integer are those datatypes that are in the form of numbers. "
   ]
  },
  {
   "cell_type": "markdown",
   "id": "4f73820a",
   "metadata": {},
   "source": [
    "float datatypes = float are those datatypes that are in decimal form  , e.g = 15.24 "
   ]
  },
  {
   "cell_type": "markdown",
   "id": "0f3cede7",
   "metadata": {},
   "source": [
    "# how to find length of data :"
   ]
  },
  {
   "cell_type": "code",
   "execution_count": 63,
   "id": "8f9be3c6",
   "metadata": {},
   "outputs": [
    {
     "data": {
      "text/plain": [
       "4"
      ]
     },
     "execution_count": 63,
     "metadata": {},
     "output_type": "execute_result"
    }
   ],
   "source": [
    "len(\"abcd\")"
   ]
  },
  {
   "cell_type": "code",
   "execution_count": 64,
   "id": "3c326793",
   "metadata": {},
   "outputs": [
    {
     "data": {
      "text/plain": [
       "7"
      ]
     },
     "execution_count": 64,
     "metadata": {},
     "output_type": "execute_result"
    }
   ],
   "source": [
    "len(\"avbkhkf\")"
   ]
  },
  {
   "cell_type": "code",
   "execution_count": 66,
   "id": "f9f98b2d",
   "metadata": {},
   "outputs": [],
   "source": [
    "a = [1,2,3,5,6,6,6243,3,3,3,3,3,33,6,7,]"
   ]
  },
  {
   "cell_type": "code",
   "execution_count": 67,
   "id": "6dc4571a",
   "metadata": {},
   "outputs": [
    {
     "data": {
      "text/plain": [
       "15"
      ]
     },
     "execution_count": 67,
     "metadata": {},
     "output_type": "execute_result"
    }
   ],
   "source": [
    "len(a)"
   ]
  },
  {
   "cell_type": "code",
   "execution_count": 68,
   "id": "53ba4ca3",
   "metadata": {},
   "outputs": [
    {
     "data": {
      "text/plain": [
       "4"
      ]
     },
     "execution_count": 68,
     "metadata": {},
     "output_type": "execute_result"
    }
   ],
   "source": [
    "len(\"pune\")"
   ]
  },
  {
   "cell_type": "code",
   "execution_count": 69,
   "id": "65c9f6cb",
   "metadata": {},
   "outputs": [
    {
     "data": {
      "text/plain": [
       "9"
      ]
     },
     "execution_count": 69,
     "metadata": {},
     "output_type": "execute_result"
    }
   ],
   "source": [
    "len(\"accenture\")"
   ]
  },
  {
   "cell_type": "code",
   "execution_count": 70,
   "id": "c2a218fb",
   "metadata": {},
   "outputs": [
    {
     "data": {
      "text/plain": [
       "10"
      ]
     },
     "execution_count": 70,
     "metadata": {},
     "output_type": "execute_result"
    }
   ],
   "source": [
    "len(\"ramandsita\")"
   ]
  },
  {
   "cell_type": "code",
   "execution_count": 71,
   "id": "39b9b007",
   "metadata": {},
   "outputs": [
    {
     "data": {
      "text/plain": [
       "'chennai'"
      ]
     },
     "execution_count": 71,
     "metadata": {},
     "output_type": "execute_result"
    }
   ],
   "source": [
    "city = 'chennai'\n",
    "city"
   ]
  },
  {
   "cell_type": "code",
   "execution_count": 72,
   "id": "14fa7181",
   "metadata": {},
   "outputs": [
    {
     "data": {
      "text/plain": [
       "7"
      ]
     },
     "execution_count": 72,
     "metadata": {},
     "output_type": "execute_result"
    }
   ],
   "source": [
    "len(city) # now city is a variable here and have data , it will find the length of that data"
   ]
  },
  {
   "cell_type": "markdown",
   "id": "a5e870fb",
   "metadata": {},
   "source": [
    "# user input"
   ]
  },
  {
   "cell_type": "code",
   "execution_count": 73,
   "id": "2b556ce3",
   "metadata": {},
   "outputs": [
    {
     "name": "stdout",
     "output_type": "stream",
     "text": [
      "enter your name :rohan\n"
     ]
    }
   ],
   "source": [
    "name = input(\"enter your name :\")"
   ]
  },
  {
   "cell_type": "code",
   "execution_count": 76,
   "id": "bbb7894f",
   "metadata": {},
   "outputs": [
    {
     "name": "stdout",
     "output_type": "stream",
     "text": [
      "enter your name: rohan\n",
      "enter your age25\n",
      "you have a very nice name rohan and you are very young though just 25 years old\n"
     ]
    }
   ],
   "source": [
    "name = input(\"enter your name: \")\n",
    "age = input(\"enter your age\")\n",
    "print(\"you have a very nice name\" , name , \"and you are very young though just\" , age , 'years old')\n"
   ]
  },
  {
   "cell_type": "code",
   "execution_count": 84,
   "id": "c08e42dc",
   "metadata": {},
   "outputs": [
    {
     "name": "stdout",
     "output_type": "stream",
     "text": [
      "enter your name :rohan kalra\n",
      "rohan kalra\n",
      "11\n",
      "The lenght of name is  11\n",
      "enter your country name :brazil\n",
      "brazil\n"
     ]
    }
   ],
   "source": [
    "name = input(\"enter your name :\")\n",
    "\n",
    "print(name)  # adding print is imp here\n",
    "print(len(name))\n",
    "print(\"The lenght of name is \" , len(name))\n",
    "country = input(\"enter your country name :\")\n",
    "\n",
    "print(country)"
   ]
  },
  {
   "cell_type": "code",
   "execution_count": 85,
   "id": "4dcfc507",
   "metadata": {},
   "outputs": [
    {
     "name": "stdout",
     "output_type": "stream",
     "text": [
      "enter your name :rohan kalra\n",
      "rohan kalra\n",
      " the lenght of name is 11\n",
      "enter your country name brazil\n",
      "country\n",
      "the length of country is 6\n"
     ]
    }
   ],
   "source": [
    "name = input(\"enter your name :\")\n",
    "print(name)\n",
    "\n",
    "print(\" the lenght of name is\" , len(name))\n",
    "country = input(\"enter your country name \")\n",
    "print(\"country\")\n",
    "print(\"the length of country is\" , len(country))"
   ]
  },
  {
   "cell_type": "code",
   "execution_count": 86,
   "id": "fd3ba0cf",
   "metadata": {},
   "outputs": [],
   "source": [
    "x = 100\n",
    "y = 80"
   ]
  },
  {
   "cell_type": "code",
   "execution_count": 87,
   "id": "e51f7e33",
   "metadata": {},
   "outputs": [
    {
     "data": {
      "text/plain": [
       "True"
      ]
     },
     "execution_count": 87,
     "metadata": {},
     "output_type": "execute_result"
    }
   ],
   "source": [
    "x >y\n"
   ]
  },
  {
   "cell_type": "code",
   "execution_count": 88,
   "id": "53de3a42",
   "metadata": {},
   "outputs": [
    {
     "data": {
      "text/plain": [
       "False"
      ]
     },
     "execution_count": 88,
     "metadata": {},
     "output_type": "execute_result"
    }
   ],
   "source": [
    "x ==y"
   ]
  },
  {
   "cell_type": "code",
   "execution_count": 89,
   "id": "cd1ce133",
   "metadata": {},
   "outputs": [
    {
     "data": {
      "text/plain": [
       "True"
      ]
     },
     "execution_count": 89,
     "metadata": {},
     "output_type": "execute_result"
    }
   ],
   "source": [
    "x != y"
   ]
  },
  {
   "cell_type": "markdown",
   "id": "27c403dc",
   "metadata": {},
   "source": [
    "above example shows variable comparison"
   ]
  },
  {
   "cell_type": "code",
   "execution_count": 91,
   "id": "e47d5869",
   "metadata": {},
   "outputs": [
    {
     "name": "stdout",
     "output_type": "stream",
     "text": [
      "enter your otp :1222\n"
     ]
    }
   ],
   "source": [
    "otp = input(\"enter your otp :\")"
   ]
  },
  {
   "cell_type": "code",
   "execution_count": 92,
   "id": "dfb1bbee",
   "metadata": {},
   "outputs": [
    {
     "data": {
      "text/plain": [
       "250"
      ]
     },
     "execution_count": 92,
     "metadata": {},
     "output_type": "execute_result"
    }
   ],
   "source": [
    "10 + 10 + 44 + 100 + 19 + 67\n",
    "    "
   ]
  },
  {
   "cell_type": "code",
   "execution_count": 93,
   "id": "0b222e34",
   "metadata": {},
   "outputs": [
    {
     "data": {
      "text/plain": [
       "'1010'"
      ]
     },
     "execution_count": 93,
     "metadata": {},
     "output_type": "execute_result"
    }
   ],
   "source": [
    "'10' + '10' # these both are strings hence it will add in a certain way only tgis addition of string is not like normal integer"
   ]
  },
  {
   "cell_type": "code",
   "execution_count": 96,
   "id": "b5afe503",
   "metadata": {},
   "outputs": [
    {
     "data": {
      "text/plain": [
       "'happy birthday'"
      ]
     },
     "execution_count": 96,
     "metadata": {},
     "output_type": "execute_result"
    }
   ],
   "source": [
    "'happy' +  ' birthday' # this method is known as string concatenation"
   ]
  },
  {
   "cell_type": "code",
   "execution_count": 97,
   "id": "ffc3bc3e",
   "metadata": {},
   "outputs": [],
   "source": [
    "#string concatenation means to add two string data "
   ]
  },
  {
   "cell_type": "code",
   "execution_count": 99,
   "id": "c94ed0bc",
   "metadata": {},
   "outputs": [
    {
     "data": {
      "text/plain": [
       "'python  is a programming language'"
      ]
     },
     "execution_count": 99,
     "metadata": {},
     "output_type": "execute_result"
    }
   ],
   "source": [
    "'python '+ ' is' + ' a' + ' programming language'"
   ]
  },
  {
   "cell_type": "code",
   "execution_count": 102,
   "id": "c325ad18",
   "metadata": {},
   "outputs": [
    {
     "data": {
      "text/plain": [
       "'Elon Musk ceo of Tesla'"
      ]
     },
     "execution_count": 102,
     "metadata": {},
     "output_type": "execute_result"
    }
   ],
   "source": [
    "'Elon' + ' Musk'+ ' ceo' + ' of ' + 'Tesla'"
   ]
  },
  {
   "cell_type": "code",
   "execution_count": 104,
   "id": "d31acef4",
   "metadata": {},
   "outputs": [
    {
     "data": {
      "text/plain": [
       "'my mobile is Realme'"
      ]
     },
     "execution_count": 104,
     "metadata": {},
     "output_type": "execute_result"
    }
   ],
   "source": [
    "'my' + ' mobile' + ' is' + ' Realme'"
   ]
  },
  {
   "cell_type": "code",
   "execution_count": 105,
   "id": "057137f0",
   "metadata": {},
   "outputs": [
    {
     "data": {
      "text/plain": [
       "'1010'"
      ]
     },
     "execution_count": 105,
     "metadata": {},
     "output_type": "execute_result"
    }
   ],
   "source": [
    "'10' + '10'"
   ]
  },
  {
   "cell_type": "code",
   "execution_count": 106,
   "id": "92a6cb11",
   "metadata": {},
   "outputs": [
    {
     "data": {
      "text/plain": [
       "'1010'"
      ]
     },
     "execution_count": 106,
     "metadata": {},
     "output_type": "execute_result"
    }
   ],
   "source": [
    "'10' + \"10\""
   ]
  },
  {
   "cell_type": "code",
   "execution_count": 107,
   "id": "66d8d4f2",
   "metadata": {},
   "outputs": [
    {
     "data": {
      "text/plain": [
       "int"
      ]
     },
     "execution_count": 107,
     "metadata": {},
     "output_type": "execute_result"
    }
   ],
   "source": [
    "type(8)"
   ]
  },
  {
   "cell_type": "code",
   "execution_count": 108,
   "id": "0be2526c",
   "metadata": {},
   "outputs": [
    {
     "data": {
      "text/plain": [
       "float"
      ]
     },
     "execution_count": 108,
     "metadata": {},
     "output_type": "execute_result"
    }
   ],
   "source": [
    "type(99.9)"
   ]
  },
  {
   "cell_type": "code",
   "execution_count": 109,
   "id": "f0ebfc56",
   "metadata": {},
   "outputs": [
    {
     "data": {
      "text/plain": [
       "str"
      ]
     },
     "execution_count": 109,
     "metadata": {},
     "output_type": "execute_result"
    }
   ],
   "source": [
    "type(\"integer\")"
   ]
  },
  {
   "cell_type": "code",
   "execution_count": 110,
   "id": "6ad877cc",
   "metadata": {},
   "outputs": [
    {
     "data": {
      "text/plain": [
       "float"
      ]
     },
     "execution_count": 110,
     "metadata": {},
     "output_type": "execute_result"
    }
   ],
   "source": [
    "type(88.88)"
   ]
  },
  {
   "cell_type": "markdown",
   "id": "d9cda70a",
   "metadata": {},
   "source": [
    "Type command tell us about the type of data strutures"
   ]
  },
  {
   "cell_type": "code",
   "execution_count": 111,
   "id": "38e1686b",
   "metadata": {},
   "outputs": [
    {
     "ename": "TypeError",
     "evalue": "can only concatenate str (not \"int\") to str",
     "output_type": "error",
     "traceback": [
      "\u001b[1;31m---------------------------------------------------------------------------\u001b[0m",
      "\u001b[1;31mTypeError\u001b[0m                                 Traceback (most recent call last)",
      "\u001b[1;32m~\\AppData\\Local\\Temp\\ipykernel_4468\\1428376802.py\u001b[0m in \u001b[0;36m<module>\u001b[1;34m\u001b[0m\n\u001b[1;32m----> 1\u001b[1;33m \u001b[1;34m'python'\u001b[0m \u001b[1;33m+\u001b[0m \u001b[1;36m33\u001b[0m\u001b[1;33m\u001b[0m\u001b[1;33m\u001b[0m\u001b[0m\n\u001b[0m",
      "\u001b[1;31mTypeError\u001b[0m: can only concatenate str (not \"int\") to str"
     ]
    }
   ],
   "source": [
    "'python' + 33 # we can not add an int and string "
   ]
  },
  {
   "cell_type": "code",
   "execution_count": 112,
   "id": "a692ec7b",
   "metadata": {},
   "outputs": [
    {
     "data": {
      "text/plain": [
       "'python 333'"
      ]
     },
     "execution_count": 112,
     "metadata": {},
     "output_type": "execute_result"
    }
   ],
   "source": [
    "'python ' + '333' # HERE both are strings"
   ]
  },
  {
   "cell_type": "code",
   "execution_count": 113,
   "id": "2cfc6d87",
   "metadata": {},
   "outputs": [
    {
     "data": {
      "text/plain": [
       "int"
      ]
     },
     "execution_count": 113,
     "metadata": {},
     "output_type": "execute_result"
    }
   ],
   "source": [
    "a = 200\n",
    "type (a)"
   ]
  },
  {
   "cell_type": "code",
   "execution_count": 114,
   "id": "2ee5a152",
   "metadata": {},
   "outputs": [
    {
     "data": {
      "text/plain": [
       "float"
      ]
     },
     "execution_count": 114,
     "metadata": {},
     "output_type": "execute_result"
    }
   ],
   "source": [
    "b = 45.56\n",
    "type(b)"
   ]
  },
  {
   "cell_type": "code",
   "execution_count": 115,
   "id": "3b4e2cd1",
   "metadata": {},
   "outputs": [
    {
     "data": {
      "text/plain": [
       "str"
      ]
     },
     "execution_count": 115,
     "metadata": {},
     "output_type": "execute_result"
    }
   ],
   "source": [
    "city = 'chennai'\n",
    "type(city)"
   ]
  },
  {
   "cell_type": "markdown",
   "id": "b1839c3a",
   "metadata": {},
   "source": [
    "Typecasting"
   ]
  },
  {
   "cell_type": "code",
   "execution_count": 117,
   "id": "d07f8b8d",
   "metadata": {},
   "outputs": [
    {
     "data": {
      "text/plain": [
       "200.0"
      ]
     },
     "execution_count": 117,
     "metadata": {},
     "output_type": "execute_result"
    }
   ],
   "source": [
    "float(a) # to change the data type from one data type to another , and this process is known as typecasting."
   ]
  },
  {
   "cell_type": "code",
   "execution_count": 118,
   "id": "a1b29963",
   "metadata": {},
   "outputs": [
    {
     "data": {
      "text/plain": [
       "45"
      ]
     },
     "execution_count": 118,
     "metadata": {},
     "output_type": "execute_result"
    }
   ],
   "source": [
    "int(b)# change the float data into int data"
   ]
  },
  {
   "cell_type": "code",
   "execution_count": 119,
   "id": "e321632c",
   "metadata": {},
   "outputs": [
    {
     "ename": "ValueError",
     "evalue": "invalid literal for int() with base 10: 'chennai'",
     "output_type": "error",
     "traceback": [
      "\u001b[1;31m---------------------------------------------------------------------------\u001b[0m",
      "\u001b[1;31mValueError\u001b[0m                                Traceback (most recent call last)",
      "\u001b[1;32m~\\AppData\\Local\\Temp\\ipykernel_4468\\3949568159.py\u001b[0m in \u001b[0;36m<module>\u001b[1;34m\u001b[0m\n\u001b[1;32m----> 1\u001b[1;33m \u001b[0mint\u001b[0m\u001b[1;33m(\u001b[0m\u001b[0mcity\u001b[0m\u001b[1;33m)\u001b[0m\u001b[1;33m\u001b[0m\u001b[1;33m\u001b[0m\u001b[0m\n\u001b[0m",
      "\u001b[1;31mValueError\u001b[0m: invalid literal for int() with base 10: 'chennai'"
     ]
    }
   ],
   "source": [
    "int(city) #WE Can not chnage any string to int"
   ]
  },
  {
   "cell_type": "code",
   "execution_count": 120,
   "id": "165936d7",
   "metadata": {},
   "outputs": [
    {
     "data": {
      "text/plain": [
       "'200'"
      ]
     },
     "execution_count": 120,
     "metadata": {},
     "output_type": "execute_result"
    }
   ],
   "source": [
    "str(a) # we can change the datatype of a number or integer to string "
   ]
  },
  {
   "cell_type": "code",
   "execution_count": 121,
   "id": "302f6ac7",
   "metadata": {},
   "outputs": [],
   "source": [
    "c = 57"
   ]
  },
  {
   "cell_type": "code",
   "execution_count": 122,
   "id": "16a46a8e",
   "metadata": {},
   "outputs": [],
   "source": [
    "e = float(c)"
   ]
  },
  {
   "cell_type": "code",
   "execution_count": 123,
   "id": "50297922",
   "metadata": {},
   "outputs": [
    {
     "data": {
      "text/plain": [
       "57.0"
      ]
     },
     "execution_count": 123,
     "metadata": {},
     "output_type": "execute_result"
    }
   ],
   "source": [
    "e"
   ]
  },
  {
   "cell_type": "code",
   "execution_count": 124,
   "id": "9bf1c410",
   "metadata": {},
   "outputs": [
    {
     "data": {
      "text/plain": [
       "57"
      ]
     },
     "execution_count": 124,
     "metadata": {},
     "output_type": "execute_result"
    }
   ],
   "source": [
    "c\n"
   ]
  },
  {
   "cell_type": "code",
   "execution_count": null,
   "id": "ba621bd6",
   "metadata": {},
   "outputs": [],
   "source": []
  }
 ],
 "metadata": {
  "kernelspec": {
   "display_name": "Python 3 (ipykernel)",
   "language": "python",
   "name": "python3"
  },
  "language_info": {
   "codemirror_mode": {
    "name": "ipython",
    "version": 3
   },
   "file_extension": ".py",
   "mimetype": "text/x-python",
   "name": "python",
   "nbconvert_exporter": "python",
   "pygments_lexer": "ipython3",
   "version": "3.9.13"
  }
 },
 "nbformat": 4,
 "nbformat_minor": 5
}
